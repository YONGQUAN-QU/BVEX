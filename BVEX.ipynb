{
 "cells": [
  {
   "cell_type": "code",
   "execution_count": 1,
   "id": "ead71a98-77d9-444b-b667-cf89df891e96",
   "metadata": {},
   "outputs": [],
   "source": [
    "\"\"\"\n",
    "This script runs the BVEX model in a standalone mode. Key parameters are specified\n",
    "in namelist.py. One complete run is split into a number of relays, which are\n",
    "comprised by sprints. One time slice is saved after one sprint (multiple time\n",
    "steps), and one relay outputs one NetCDF file with multiple time slices.\n",
    "\"\"\"\n",
    "\n",
    "import time\n",
    "import numpy.fft as nfft\n",
    "from bvex import *\n",
    "from functools import partial\n",
    "import powerpax"
   ]
  },
  {
   "cell_type": "code",
   "execution_count": 2,
   "id": "b37c14c7-5bcc-41c2-b0b5-a9aa0077c5c6",
   "metadata": {},
   "outputs": [],
   "source": [
    "q0, _, Kx, Ky, Del2, _, _, x, y = setup_ic_grid(shearFrac, randSeed)"
   ]
  },
  {
   "cell_type": "code",
   "execution_count": 3,
   "id": "60d26b78-4b1c-4253-a008-20f7de28e5a5",
   "metadata": {},
   "outputs": [],
   "source": [
    "qNow = q0 \n",
    "tNow = 0.0"
   ]
  },
  {
   "cell_type": "code",
   "execution_count": 4,
   "id": "1b7e09a6-897f-423f-a017-83369d82eb75",
   "metadata": {},
   "outputs": [],
   "source": [
    "dt = 0.01\n",
    "T = 10\n",
    "interval = 250\n",
    "t_max = 8300\n",
    "n_steps = int(t_max/dt)"
   ]
  },
  {
   "cell_type": "code",
   "execution_count": 5,
   "id": "dafdfca1-3ee1-4c14-8863-811e96d6b6e1",
   "metadata": {},
   "outputs": [],
   "source": [
    "t_set = tNow + jnp.arange(n_steps) * dt"
   ]
  },
  {
   "cell_type": "code",
   "execution_count": 14,
   "id": "d9873b1a-ec20-479a-acea-c10cdfbd397d",
   "metadata": {},
   "outputs": [],
   "source": [
    "def step_fn(carry, tNow):\n",
    "    new_carry, y = etdrk4(carry, tNow)\n",
    "    return new_carry, new_carry"
   ]
  },
  {
   "cell_type": "code",
   "execution_count": 15,
   "id": "a4a252f2-9cc0-4c74-84cf-3b323e12b396",
   "metadata": {},
   "outputs": [],
   "source": [
    "@partial(jax.jit, static_argnums=(1,2,3))\n",
    "def do_sliced_scan(init_state, start, total_steps, interval):\n",
    "    t_set = tNow + jnp.arange(total_steps) * dt\n",
    "    \n",
    "    final_state, trajectory = powerpax.sliced_scan(\n",
    "        step_fn,\n",
    "        init_state,\n",
    "        t_set,\n",
    "        length=total_steps,\n",
    "        reverse=False,\n",
    "        start=start,\n",
    "        stop=total_steps-1,\n",
    "        step=interval\n",
    "    )\n",
    "    return final_state, trajectory"
   ]
  },
  {
   "cell_type": "code",
   "execution_count": 23,
   "id": "d3fb553d-b517-4e74-9068-e00bc5833961",
   "metadata": {},
   "outputs": [],
   "source": [
    "final_state, history = do_sliced_scan(q0,\n",
    "                                      start=int(1000/dt), \n",
    "                                      total_steps = n_steps,\n",
    "                                      interval=interval\n",
    "                                     )"
   ]
  },
  {
   "cell_type": "code",
   "execution_count": null,
   "id": "1f267995-6f9b-4a72-a328-0b944d3d3445",
   "metadata": {},
   "outputs": [],
   "source": []
  }
 ],
 "metadata": {
  "kernelspec": {
   "display_name": "jax",
   "language": "python",
   "name": "jax"
  },
  "language_info": {
   "codemirror_mode": {
    "name": "ipython",
    "version": 3
   },
   "file_extension": ".py",
   "mimetype": "text/x-python",
   "name": "python",
   "nbconvert_exporter": "python",
   "pygments_lexer": "ipython3",
   "version": "3.10.10"
  }
 },
 "nbformat": 4,
 "nbformat_minor": 5
}
